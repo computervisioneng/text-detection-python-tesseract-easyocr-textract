{
  "nbformat": 4,
  "nbformat_minor": 0,
  "metadata": {
    "colab": {
      "provenance": []
    },
    "kernelspec": {
      "name": "python3",
      "display_name": "Python 3"
    },
    "language_info": {
      "name": "python"
    }
  },
  "cells": [
    {
      "cell_type": "code",
      "source": [
        "### 1. Mount Google Drive ###\n",
        "\n",
        "from google.colab import drive\n",
        "\n",
        "drive.mount('/content/gdrive')"
      ],
      "metadata": {
        "id": "JyjPly-Fc3Ym"
      },
      "execution_count": null,
      "outputs": []
    },
    {
      "cell_type": "code",
      "source": [
        "### 2. Prepare data ###\n",
        "\n",
        "!scp '/content/gdrive/My Drive/TesseractVSEasyOCRVSAWSTextract/data.zip' '/content/data.zip'\n",
        "\n",
        "!unzip '/content/data.zip' -d '/content/'"
      ],
      "metadata": {
        "id": "kfESieu2c_mG"
      },
      "execution_count": null,
      "outputs": []
    },
    {
      "cell_type": "code",
      "execution_count": null,
      "metadata": {
        "id": "WjDIkhIobAld"
      },
      "outputs": [],
      "source": [
        "### 3. Install dependencies ###\n",
        "\n",
        "!apt install tesseract-ocr\n",
        "!apt install libtesseract-dev\n",
        "\n",
        "!pip install pytesseract\n",
        "!pip install Pillow\n",
        "!pip install easyocr\n",
        "!pip install boto3"
      ]
    },
    {
      "cell_type": "code",
      "source": [
        "### 4. Text detection ###\n",
        "\n",
        "import pytesseract\n",
        "from PIL import Image\n",
        "from easyocr import Reader\n",
        "import boto3\n",
        "\n",
        "\n",
        "reader = Reader(['en'])\n",
        "\n",
        "access_key = None\n",
        "secret_access_key = None\n",
        "\n",
        "textract_client = boto3.client('textract',\n",
        "                               aws_access_key_id=access_key,\n",
        "                               aws_secret_access_key = secret_access_key,\n",
        "                               region_name='us-east-1')\n",
        "\n",
        "\n",
        "def read_text_tesseract(image_path):\n",
        "\n",
        "  text = pytesseract.image_to_string(Image.open(image_path), lang='eng')\n",
        "  return text\n",
        "\n",
        "def read_text_easyocr(image_path):\n",
        "  text = ''\n",
        "  results = reader.readtext(Image.open(image_path))\n",
        "  for result in results:\n",
        "    text = text + result[1] +  ' '\n",
        "\n",
        "  text = text[:-1]\n",
        "  return text\n",
        "\n",
        "def read_text_textract(image_path):\n",
        "\n",
        "  with open(image_path, 'rb') as im:\n",
        "    response = textract_client.detect_document_text(Document={'Bytes':im.read()})\n",
        "\n",
        "  text = ''\n",
        "  for item in response['Blocks']:\n",
        "    if item['BlockType'] == 'LINE':\n",
        "      text = text + item['Text'] + ' '\n",
        "\n",
        "  text = text[:-1]\n",
        "\n",
        "  return text"
      ],
      "metadata": {
        "id": "Q5w45YkahgQd"
      },
      "execution_count": null,
      "outputs": []
    },
    {
      "cell_type": "code",
      "source": [
        "### 5. Compare performances ###\n",
        "\n",
        "import os\n",
        "\n",
        "\n",
        "def jaccard_similarity(sentence1, sentence2):\n",
        "    # Tokenize sentences into sets of words\n",
        "    set1 = set(sentence1.lower().split())\n",
        "    set2 = set(sentence2.lower().split())\n",
        "\n",
        "    # Calculate Jaccard similarity\n",
        "    intersection_size = len(set1.intersection(set2))\n",
        "    union_size = len(set1.union(set2))\n",
        "\n",
        "    # Avoid division by zero if both sets are empty\n",
        "    similarity = intersection_size / union_size if union_size != 0 else 0.0\n",
        "\n",
        "    return similarity\n",
        "\n",
        "\n",
        "score_tesseract = 0\n",
        "score_easyocr = 0\n",
        "score_textract = 0\n",
        "for image_path_ in os.listdir('/content/data'):\n",
        "  image_path = os.path.join('/content/data', image_path_)\n",
        "\n",
        "  gt = image_path[:-4].replace('_', ' ').lower()\n",
        "\n",
        "  score_tesseract += jaccard_similarity(gt, read_text_tesseract(image_path).lower().replace('\\n', '').replace('!', '').replace('?', '').replace('.', ''))\n",
        "  score_easyocr += jaccard_similarity(gt, read_text_easyocr(image_path).lower().replace('\\n', '').replace('!', '').replace('?', '').replace('.', ''))\n",
        "  score_textract += jaccard_similarity(gt, read_text_textract(image_path).lower().replace('\\n', '').replace('!', '').replace('?', '').replace('.', ''))\n",
        "\n",
        "print('score tesseract:', score_tesseract / 100)\n",
        "print('score_easyocr:', score_easyocr / 100)\n",
        "print('score_textract:', score_textract / 100)"
      ],
      "metadata": {
        "id": "8Jo74BgShjMh"
      },
      "execution_count": null,
      "outputs": []
    }
  ]
}
